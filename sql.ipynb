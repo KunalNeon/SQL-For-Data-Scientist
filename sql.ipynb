{
 "cells": [
  {
   "cell_type": "code",
   "execution_count": 1,
   "id": "477106b4-af44-41dc-a589-e94d640c01f5",
   "metadata": {},
   "outputs": [
    {
     "name": "stdout",
     "output_type": "stream",
     "text": [
      "Welcome to SQL\n"
     ]
    }
   ],
   "source": [
    "print(\"Welcome to SQL\")"
   ]
  },
  {
   "cell_type": "markdown",
   "id": "51d0d6b3-3ce6-40b0-be55-e3062ddc700f",
   "metadata": {},
   "source": [
    "## Steps for installing and connceting mysql \n",
    "# 🧠 MySQL & Python Integration: Full Setup Guide (macOS + Jupyter)\n",
    "\n",
    "---\n",
    "\n",
    "## ✅ PART 1: Install MySQL on macOS using Homebrew\n",
    "\n",
    "### 🖥 In Terminal:\n",
    "```bash\n",
    "brew update\n",
    "brew install mysql\n",
    "brew services start mysql      # Start MySQL server\n",
    "```\n",
    "\n",
    "### ✅ Check MySQL is running:\n",
    "```bash\n",
    "mysqladmin -u root -p version\n",
    "```\n",
    "\n",
    "---\n",
    "\n",
    "## ✅ PART 2: Login to MySQL (initially no password)\n",
    "```bash\n",
    "mysql -u root\n",
    "```\n",
    "\n",
    "---\n",
    "\n",
    "## ✅ PART 3: Set Password for Root User\n",
    "\n",
    "### 🔒 Inside MySQL shell:\n",
    "```sql\n",
    "ALTER USER 'root'@'localhost' IDENTIFIED BY 'your_secure_password';\n",
    "FLUSH PRIVILEGES;\n",
    "```\n",
    "\n",
    "> Example:\n",
    "```sql\n",
    "ALTER USER 'root'@'localhost' IDENTIFIED BY 'coolNeon@23';\n",
    "```\n",
    "\n",
    "---\n",
    "\n",
    "## ✅ PART 4: Exit MySQL Shell\n",
    "```sql\n",
    "exit;\n",
    "```\n",
    "\n",
    "---\n",
    "\n",
    "## ✅ PART 5: Log in again with password (in Terminal)\n",
    "```bash\n",
    "mysql -u root -p\n",
    "```\n",
    "> Enter password: `coolNeon@23`\n",
    "\n",
    "---\n",
    "\n",
    "## ✅ PART 6: Create Database & User (optional)\n",
    "\n",
    "### 🔧 In MySQL shell:\n",
    "```sql\n",
    "CREATE DATABASE test_db;\n",
    "\n",
    "CREATE USER 'myuser'@'localhost' IDENTIFIED BY 'mypassword';\n",
    "\n",
    "GRANT ALL PRIVILEGES ON test_db.* TO 'myuser'@'localhost';\n",
    "\n",
    "FLUSH PRIVILEGES;\n",
    "```\n",
    "\n",
    "---\n",
    "\n",
    "## ✅ PART 7: Select a Database\n",
    "\n",
    "```sql\n",
    "USE test_db;\n",
    "SELECT DATABASE();\n",
    "```\n",
    "\n",
    "---\n",
    "\n",
    "## ✅ PART 8: Install MySQL Connector for Python (Jupyter)\n",
    "\n",
    "### 🐍 In Jupyter notebook cell:\n",
    "```python\n",
    "!pip install mysql-connector-python\n",
    "```\n",
    "\n",
    "---\n",
    "\n",
    "## ✅ PART 9: Connect to MySQL from Python\n",
    "\n",
    "```python\n",
    "import mysql.connector\n",
    "\n",
    "conn = mysql.connector.connect(\n",
    "    host=\"localhost\",\n",
    "    user=\"root\",                    # or 'myuser'\n",
    "    password=\"coolNeon@23\",        # or 'mypassword'\n",
    "    database=\"test_db\"             # optional if not using yet\n",
    ")\n",
    "\n",
    "cursor = conn.cursor()\n",
    "cursor.execute(\"SELECT DATABASE();\")\n",
    "print(\"Connected to:\", cursor.fetchone())\n",
    "\n",
    "cursor.close()\n",
    "conn.close()\n",
    "```\n",
    "\n",
    "---\n",
    "\n",
    "## ✅ BONUS: Load SQL Query into pandas DataFrame\n",
    "\n",
    "```python\n",
    "import pandas as pd\n",
    "\n",
    "conn = mysql.connector.connect(\n",
    "    host=\"localhost\",\n",
    "    user=\"root\",\n",
    "    password=\"coolNeon@23\",\n",
    "    database=\"test_db\"\n",
    ")\n",
    "\n",
    "query = \"SELECT * FROM your_table;\"\n",
    "df = pd.read_sql(query, conn)\n",
    "\n",
    "conn.close()\n",
    "print(df.head())\n"
   ]
  },
  {
   "cell_type": "code",
   "execution_count": 2,
   "id": "ddcc624f-89f8-4d02-ba80-036b96c91001",
   "metadata": {},
   "outputs": [
    {
     "name": "stdout",
     "output_type": "stream",
     "text": [
      "Collecting mysql-connector-python\n",
      "  Downloading mysql_connector_python-9.3.0-cp312-cp312-macosx_14_0_x86_64.whl.metadata (7.5 kB)\n",
      "Downloading mysql_connector_python-9.3.0-cp312-cp312-macosx_14_0_x86_64.whl (16.0 MB)\n",
      "\u001b[2K   \u001b[90m━━━━━━━━━━━━━━━━━━━━━━━━━━━━━━━━━━━━━━━━\u001b[0m \u001b[32m16.0/16.0 MB\u001b[0m \u001b[31m4.0 MB/s\u001b[0m eta \u001b[36m0:00:00\u001b[0m00:01\u001b[0m00:01\u001b[0m\n",
      "\u001b[?25hInstalling collected packages: mysql-connector-python\n",
      "Successfully installed mysql-connector-python-9.3.0\n"
     ]
    }
   ],
   "source": [
    "!pip install mysql-connector-python\n",
    "\n"
   ]
  },
  {
   "cell_type": "code",
   "execution_count": 6,
   "id": "4125f4e2-00b5-4707-9f08-79400370af80",
   "metadata": {},
   "outputs": [
    {
     "name": "stdout",
     "output_type": "stream",
     "text": [
      "Connected to database: ('mysql',)\n"
     ]
    }
   ],
   "source": [
    "import mysql.connector\n",
    "\n",
    "# Connect to MySQL\n",
    "conn = mysql.connector.connect(\n",
    "    host=\"localhost\",       # or your MySQL host\n",
    "    user=\"root\",\n",
    "    password=\"coolNeon@23\",\n",
    "    database=\"mysql\"\n",
    ")\n",
    "\n",
    "cursor = conn.cursor()\n",
    "\n",
    "# Example query\n",
    "cursor.execute(\"SELECT DATABASE();\")\n",
    "result = cursor.fetchone()\n",
    "print(\"Connected to database:\", result)\n",
    "\n",
    "cursor.close()\n",
    "conn.close()\n"
   ]
  },
  {
   "cell_type": "code",
   "execution_count": null,
   "id": "4c94c9bc-715d-49b0-b6f6-eb0adb8096ca",
   "metadata": {},
   "outputs": [],
   "source": []
  }
 ],
 "metadata": {
  "kernelspec": {
   "display_name": "Python [conda env:base] *",
   "language": "python",
   "name": "conda-base-py"
  },
  "language_info": {
   "codemirror_mode": {
    "name": "ipython",
    "version": 3
   },
   "file_extension": ".py",
   "mimetype": "text/x-python",
   "name": "python",
   "nbconvert_exporter": "python",
   "pygments_lexer": "ipython3",
   "version": "3.12.7"
  }
 },
 "nbformat": 4,
 "nbformat_minor": 5
}
